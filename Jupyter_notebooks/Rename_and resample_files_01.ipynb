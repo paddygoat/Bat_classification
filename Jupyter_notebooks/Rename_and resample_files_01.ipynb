{
 "cells": [
  {
   "cell_type": "code",
   "execution_count": 1,
   "metadata": {},
   "outputs": [],
   "source": []
  },
  {
   "cell_type": "code",
   "execution_count": 19,
   "metadata": {},
   "outputs": [
    {
     "name": "stdout",
     "output_type": "stream",
     "text": [
      "/media/tegwyn/KINGSTON/Bat_Detecter/384K_files/pp_c/pp_c_1.wav\n",
      "/media/tegwyn/KINGSTON/Bat_Detecter/384K_files/pp_c/pp_c_2.wav\n",
      "/media/tegwyn/KINGSTON/Bat_Detecter/384K_files/pp_c/pp_c_3.wav\n",
      "/media/tegwyn/KINGSTON/Bat_Detecter/384K_files/pp_c/pp_c_4.wav\n",
      "/media/tegwyn/KINGSTON/Bat_Detecter/384K_files/pp_c/pp_c_5.wav\n",
      "/media/tegwyn/KINGSTON/Bat_Detecter/384K_files/pp_c/pp_c_6.wav\n"
     ]
    }
   ],
   "source": [
    "import os\n",
    "import librosa  \n",
    "import soundfile as sf\n",
    "import time\n",
    "\n",
    "# sr = sample rate\n",
    "# sr=192000\n",
    "sr=384000\n",
    "\n",
    "def renameFiles(path, basefilename, depth=1):\n",
    "    # Once we hit depth, just return (base case)\n",
    "    if depth < 0: return\n",
    "\n",
    "    # Make sure that a path was supplied and it is not a symbolic link\n",
    "    if os.path.isdir(path) and not os.path.islink(path):\n",
    "        ind = 1\n",
    "\n",
    "        # Loop through each file in the start directory and create a fullpath\n",
    "        for file in os.listdir(path):\n",
    "            fullpath = path + os.path.sep + file\n",
    "\n",
    "            # Again we don't want to follow symbolic links\n",
    "            if not os.path.islink(fullpath):\n",
    "\n",
    "                # If it is a directory, recursively call this function \n",
    "                # giving that path and reducing the depth.\n",
    "                if os.path.isdir(fullpath):\n",
    "                    renameFiles(fullpath, basefilename, depth - 1)\n",
    "                else:\n",
    "                    # Find the extension (if available) and rebuild file name \n",
    "                    # using the directory, new base filename, index and the old extension.\n",
    "                    extension = os.path.splitext(fullpath)[1]\n",
    "                    os.rename(fullpath, os.path.dirname(fullpath) + os.path.sep + basefilename + \"_\" + str(ind) + extension)\n",
    "                    \n",
    "                    import_file = (os.path.dirname(fullpath) + os.path.sep + basefilename + \"_\" + str(ind) + extension)\n",
    "                    print(import_file)\n",
    "                    \n",
    "                    y, s = librosa.load(import_file, sr) # Resample to 384000 Hz\n",
    "                    #y.shape\n",
    "                    # Write out audio as 16bit PCM wav:\n",
    "                    export_file = import_file\n",
    "                    sf.write(export_file, y, sr, mono=True, format='wav', subtype='PCM_16')\n",
    "                    ind += 1\n",
    "            \n",
    "    return\n",
    "\n",
    "renameFiles(\"/media/tegwyn/KINGSTON/Bat_Detecter/384K_files/pp_c/\", \"pp_c\", depth=1)\n",
    "\n",
    "# /media/tegwyn/KINGSTON/Bat_Detecter/384K_files/bb_a/Barbastella_barbastellus_a_01.wav\n"
   ]
  },
  {
   "cell_type": "code",
   "execution_count": null,
   "metadata": {},
   "outputs": [],
   "source": []
  }
 ],
 "metadata": {
  "kernelspec": {
   "display_name": "Python 3",
   "language": "python",
   "name": "python3"
  },
  "language_info": {
   "codemirror_mode": {
    "name": "ipython",
    "version": 3
   },
   "file_extension": ".py",
   "mimetype": "text/x-python",
   "name": "python",
   "nbconvert_exporter": "python",
   "pygments_lexer": "ipython3",
   "version": "3.5.2"
  }
 },
 "nbformat": 4,
 "nbformat_minor": 2
}
