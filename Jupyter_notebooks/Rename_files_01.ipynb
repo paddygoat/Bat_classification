{
 "cells": [
  {
   "cell_type": "code",
   "execution_count": 1,
   "metadata": {},
   "outputs": [],
   "source": []
  },
  {
   "cell_type": "code",
   "execution_count": 6,
   "metadata": {},
   "outputs": [],
   "source": [
    "import os\n",
    "\n",
    "def renameFiles(path, basefilename, depth=1):\n",
    "    # Once we hit depth, just return (base case)\n",
    "    if depth < 0: return\n",
    "\n",
    "    # Make sure that a path was supplied and it is not a symbolic link\n",
    "    if os.path.isdir(path) and not os.path.islink(path):\n",
    "        ind = 1\n",
    "\n",
    "        # Loop through each file in the start directory and create a fullpath\n",
    "        for file in os.listdir(path):\n",
    "            fullpath = path + os.path.sep + file\n",
    "\n",
    "            # Again we don't want to follow symbolic links\n",
    "            if not os.path.islink(fullpath):\n",
    "\n",
    "                # If it is a directory, recursively call this function \n",
    "                # giving that path and reducing the depth.\n",
    "                if os.path.isdir(fullpath):\n",
    "                    renameFiles(fullpath, basefilename, depth - 1)\n",
    "                else:\n",
    "                    # Find the extension (if available) and rebuild file name \n",
    "                    # using the directory, new base filename, index and the old extension.\n",
    "                    extension = os.path.splitext(fullpath)[1]\n",
    "                    os.rename(fullpath, os.path.dirname(fullpath) + os.path.sep + basefilename + \"_\" + str(ind) + extension)\n",
    "                    ind += 1\n",
    "    return\n",
    "\n",
    "renameFiles(\"/media/tegwyn/Xavier_SD/Bat_Detecter/test02/\", \"clunk\", depth=1)\n",
    "\n"
   ]
  },
  {
   "cell_type": "code",
   "execution_count": null,
   "metadata": {},
   "outputs": [],
   "source": []
  }
 ],
 "metadata": {
  "kernelspec": {
   "display_name": "Python 3",
   "language": "python",
   "name": "python3"
  },
  "language_info": {
   "codemirror_mode": {
    "name": "ipython",
    "version": 3
   },
   "file_extension": ".py",
   "mimetype": "text/x-python",
   "name": "python",
   "nbconvert_exporter": "python",
   "pygments_lexer": "ipython3",
   "version": "3.6.8"
  }
 },
 "nbformat": 4,
 "nbformat_minor": 2
}
