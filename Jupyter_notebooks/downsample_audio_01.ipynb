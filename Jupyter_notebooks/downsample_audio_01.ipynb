{
 "cells": [
  {
   "cell_type": "code",
   "execution_count": 480,
   "metadata": {},
   "outputs": [],
   "source": [
    "# Only works on AMD, not Arm !!!!\n",
    "\n",
    "# '/media/tegwyn/KINGSTON/Bat_Detecter/Data_for_training_192000/_background_noise_/dude_miaowing'\n",
    "# '/media/tegwyn/KINGSTON/Bat_Detecter/Data_for_training_192000/_background_noise_/doing_the_dishes'\n",
    "# '/media/tegwyn/KINGSTON/Bat_Detecter/Data_for_training_192000/_background_noise_/exercise_bike'\n",
    "# '/media/tegwyn/KINGSTON/Bat_Detecter/Data_for_training_192000/_background_noise_/pink_noise'\n",
    "# '/media/tegwyn/KINGSTON/Bat_Detecter/Data_for_training_192000/_background_noise_/running_tap'\n",
    "# '/media/tegwyn/KINGSTON/Bat_Detecter/Data_for_training_192000/_background_noise_/white_noise'\n",
    "## /media/tegwyn/KINGSTON/Bat_Detecter/Data_for_training_192000/NNa/Nyctalus_noctula_a_17\n",
    "\n",
    "## /media/tegwyn/KINGSTON/Bat_Detecter/Data_for_training_192000/NNb/Nyctalus_noctula_b_06\n",
    "## /media/tegwyn/KINGSTON/Bat_Detecter/Data_for_training_192000/NNc/Nyctalus_noctula_c_14\n",
    "## /media/tegwyn/KINGSTON/Bat_Detecter/Data_for_training_192000/NNd/Nyctalus_noctula_d_37\n",
    "## /media/tegwyn/KINGSTON/Bat_Detecter/Data_for_training_192000/NNe/Nyctalus_noctula_e_16\n",
    "## /media/tegwyn/KINGSTON/Bat_Detecter/Data_for_training_192000/PAa/Plecotus_auritus_a_31 \n",
    "## /media/tegwyn/KINGSTON/Bat_Detecter/Data_for_training_192000/PPa/Pipistrellus_pipistrellus_a_25\n",
    "## /media/tegwyn/KINGSTON/Bat_Detecter/Data_for_training_192000/PPb/Pipistrellus_pipistrellus_b_25\n",
    "## /media/tegwyn/KINGSTON/Bat_Detecter/Data_for_training_192000/PPc/Pipistrellus_pipistrellus_c_06\n",
    "\n",
    "## /media/tegwyn/KINGSTON/Bat_Detecter/Data_for_training_192000/BBa/Barbastella_barbastellus_a_01\n",
    "## /media/tegwyn/KINGSTON/Bat_Detecter/Data_for_training_192000/BBb/Barbastella_barbastellus_b_17\n",
    "## /media/tegwyn/KINGSTON/Bat_Detecter/Data_for_training_192000/ENa/Eptesicus_nilssonii_a_36\n",
    "## /media/tegwyn/KINGSTON/Bat_Detecter/Data_for_training_192000/ESa/Eptesicus_serotinus_a_03\n",
    "## /media/tegwyn/KINGSTON/Bat_Detecter/Data_for_training_192000/MBa/Myotis_bechsteinii_a_12\n",
    "## /media/tegwyn/KINGSTON/Bat_Detecter/Data_for_training_192000/MBb/Myotis_bechsteinii_b_40\n",
    "## /media/tegwyn/KINGSTON/Bat_Detecter/Data_for_training_192000/MBc/Myotis_bechsteinii_c_01\n",
    "## /media/tegwyn/KINGSTON/Bat_Detecter/Data_for_training_192000/MBd/Myotis_bechsteinii_d_26\n",
    "## /media/tegwyn/KINGSTON/Bat_Detecter/Data_for_training_192000/MSa/Miniopterus_schreibersii_a_05\n",
    "## /media/tegwyn/KINGSTON/Bat_Detecter/Data_for_training_192000/MSb/Miniopterus_schreibersii_b_01\n",
    "\n",
    "\n",
    "import librosa  \n",
    "import soundfile as sf\n",
    "sr=192000\n",
    "\n",
    "file = '/media/tegwyn/KINGSTON/Bat_Detecter/Data_for_training_192000/_background_noise_/dude_miaowing' + '_192000'\n",
    "\n",
    "# import_file = '/media/tegwyn/KINGSTON/Bat_Detecter/Data_for_training/_background_noise_/dude_miaowing.wav'\n",
    "import_file = file + '.wav'\n",
    "# export_file = '/media/tegwyn/KINGSTON/Bat_Detecter/Data_for_training/_background_noise_/dude_miaowing_192000.wav'\n",
    "export_file = file  + '.wav'\n",
    "\n",
    "y, s = librosa.load(import_file, sr) # Downsample 44.1kHz to 8kHz\n",
    "\n",
    "# Write out audio as 16bit wav:\n",
    "sf.write(export_file, y, sr, format='wav', subtype='PCM_16')\n",
    "\n",
    "# librosa.output.write_wav(export_file, y, sr)\n",
    "\n",
    "\n",
    "\n"
   ]
  },
  {
   "cell_type": "code",
   "execution_count": null,
   "metadata": {},
   "outputs": [],
   "source": []
  }
 ],
 "metadata": {
  "kernelspec": {
   "display_name": "Python 3",
   "language": "python",
   "name": "python3"
  },
  "language_info": {
   "codemirror_mode": {
    "name": "ipython",
    "version": 3
   },
   "file_extension": ".py",
   "mimetype": "text/x-python",
   "name": "python",
   "nbconvert_exporter": "python",
   "pygments_lexer": "ipython3",
   "version": "3.5.2"
  }
 },
 "nbformat": 4,
 "nbformat_minor": 2
}
